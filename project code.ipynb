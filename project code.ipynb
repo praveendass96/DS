{
 "cells": [
  {
   "cell_type": "markdown",
   "id": "8e5f8bcb",
   "metadata": {},
   "source": [
    "### Importing required libraries"
   ]
  },
  {
   "cell_type": "code",
   "execution_count": null,
   "id": "481308c5",
   "metadata": {
    "scrolled": true
   },
   "outputs": [],
   "source": [
    "!pip install wordcloud"
   ]
  },
  {
   "cell_type": "code",
   "execution_count": null,
   "id": "089b9d60",
   "metadata": {},
   "outputs": [],
   "source": [
    "# import 'Numpy'\n",
    "import numpy as np\n",
    "\n",
    "# import 'Pandas' \n",
    "import pandas as pd\n",
    "\n",
    "# import subpackage of Matplotlib\n",
    "import matplotlib.pyplot as plt\n",
    "\n",
    "# import color package from matplotlib\n",
    "from matplotlib.colors import ListedColormap\n",
    "\n",
    "# import 'Seaborn'\n",
    "import seaborn as sns\n",
    "\n",
    "# to suppress warnings\n",
    "from warnings import filterwarnings\n",
    "filterwarnings('ignore')\n",
    "\n",
    "# import regular expression\n",
    "import re\n",
    "\n",
    "# import ast\n",
    "import ast\n",
    "\n",
    "# display all columns of the dataframe\n",
    "pd.options.display.max_columns = None\n",
    "\n",
    "# import label encoder , ordinal encoder , onehot encoder \n",
    "from sklearn.preprocessing import LabelEncoder,OrdinalEncoder,OneHotEncoder\n",
    "\n",
    "# import stats for performing statistical tests\n",
    "import scipy.stats as stats\n",
    "\n",
    "# import train-test split\n",
    "from sklearn.model_selection import train_test_split\n",
    "\n",
    "# import PowerTransformer\n",
    "from sklearn.preprocessing import PowerTransformer\n",
    "\n",
    "# import SMOTE to create synthetic data\n",
    "from imblearn.over_sampling import SMOTE\n",
    "\n",
    "# import various functions from sklearn\n",
    "from sklearn.metrics import accuracy_score,roc_curve,roc_auc_score,classification_report,confusion_matrix,f1_score\n",
    "from sklearn.model_selection import KFold,GridSearchCV\n",
    "\n",
    "# import Linear Regression\n",
    "from sklearn.linear_model import LinearRegression\n",
    "\n",
    "# import statsmodels\n",
    "import statsmodels.api as sma\n",
    "\n",
    "# import Logistic Regression\n",
    "from sklearn.linear_model import LogisticRegression\n",
    "\n",
    "# import DecisionTree Classifier\n",
    "from sklearn.tree import DecisionTreeClassifier\n",
    "\n",
    "# import tree to visualize DecisiontTree\n",
    "from sklearn import tree\n",
    "\n",
    "# import RandomForest Classifier\n",
    "from sklearn.ensemble import RandomForestClassifier\n",
    "\n",
    "# import AdaBoost Classifier\n",
    "from sklearn.ensemble import AdaBoostClassifier\n",
    "\n",
    "# import GradientBoosting Classifier\n",
    "from sklearn.ensemble import GradientBoostingClassifier\n",
    "\n",
    "# import XtremeGradientBoost Classifier\n",
    "from xgboost import XGBClassifier\n",
    "\n",
    "# import wordlcoud, stopwords\n",
    "from wordcloud import WordCloud,STOPWORDS\n"
   ]
  },
  {
   "cell_type": "code",
   "execution_count": null,
   "id": "7058421b",
   "metadata": {},
   "outputs": [],
   "source": [
    "# set the plot size using 'rcParams'\n",
    "# once the plot size is set using 'rcParams', it sets the size of all the forthcoming plots in the file\n",
    "# pass width and height in inches to 'figure.figsize' \n",
    "plt.rcParams['figure.figsize'] = [8,8]\n",
    "\n",
    "# Creating custom color\n",
    "colors = ['#97C1A9','#DCDCDC','#AFC197','#9AC197','#97C1BE','#97C1A2','#C1979A',\n",
    "          '#A997C1','#77AE8F','#DCDCDC','#67A481','#C197AF']"
   ]
  },
  {
   "cell_type": "markdown",
   "id": "57d7c0ab",
   "metadata": {},
   "source": [
    "### Reading the dataset and viewing the first 10 rows of it"
   ]
  },
  {
   "cell_type": "code",
   "execution_count": null,
   "id": "0d44d983",
   "metadata": {},
   "outputs": [],
   "source": [
    "pd.set_option('display.max_columns',20)"
   ]
  },
  {
   "cell_type": "code",
   "execution_count": null,
   "id": "e482d9a6",
   "metadata": {},
   "outputs": [],
   "source": [
    "df_hotel = pd.read_csv('Hotel Reservations.csv')\n",
    "df_hotel.head(10)"
   ]
  },
  {
   "cell_type": "markdown",
   "id": "e49c08ae",
   "metadata": {},
   "source": [
    "### Checking the shape/dimension of the dataset¶"
   ]
  },
  {
   "cell_type": "code",
   "execution_count": null,
   "id": "0f4de1ea",
   "metadata": {},
   "outputs": [],
   "source": [
    "print(f'The dataset has {df_hotel.shape[0]} rows and {df_hotel.shape[1]} columns')"
   ]
  },
  {
   "cell_type": "code",
   "execution_count": null,
   "id": "447ec7ae",
   "metadata": {},
   "outputs": [],
   "source": [
    "print(f'Dimension of the dataset is {df_hotel.ndim}')"
   ]
  },
  {
   "cell_type": "markdown",
   "id": "862a5111",
   "metadata": {},
   "source": [
    "### Checking the datatype, number of non null values and name of each variable in the dataset"
   ]
  },
  {
   "cell_type": "code",
   "execution_count": null,
   "id": "ad92599e",
   "metadata": {},
   "outputs": [],
   "source": [
    "df_hotel.info()"
   ]
  },
  {
   "cell_type": "markdown",
   "id": "292c2bf4",
   "metadata": {},
   "source": [
    "### Checking for the missing values. Displaying number of missing values per column"
   ]
  },
  {
   "cell_type": "code",
   "execution_count": null,
   "id": "a3d0a286",
   "metadata": {},
   "outputs": [],
   "source": [
    "missing_values = pd.DataFrame({'No of missing values': df_hotel.isnull().sum(),\n",
    "                              '% of missing values': (df_hotel.isnull().sum()/df_hotel.shape[0])*100}\n",
    "                             ).reset_index().rename(columns = {'index':'Name'})\n",
    "\n",
    "missing_values"
   ]
  },
  {
   "cell_type": "markdown",
   "id": "204b22d5",
   "metadata": {},
   "source": [
    "From above dataframe we can see that there are no missing values present in the dataset"
   ]
  },
  {
   "cell_type": "markdown",
   "id": "7b6c0bb5",
   "metadata": {},
   "source": [
    "### Dropping of irrelevant columns from the dataset"
   ]
  },
  {
   "cell_type": "markdown",
   "id": "6b8ddb14",
   "metadata": {},
   "source": [
    "The variable booking id is a unqiue identfier of each booking. This variable can be dropped as it might not contribute much to the prediction booking status or might impute noise to the model."
   ]
  },
  {
   "cell_type": "code",
   "execution_count": null,
   "id": "e89e6f0c",
   "metadata": {},
   "outputs": [],
   "source": [
    "df_hotel.drop(columns = 'Booking_ID', inplace = True)"
   ]
  },
  {
   "cell_type": "markdown",
   "id": "cbb89ec9",
   "metadata": {},
   "source": [
    "### Checking for the descriptive statistics of the dataset"
   ]
  },
  {
   "cell_type": "code",
   "execution_count": null,
   "id": "89abdc8b",
   "metadata": {},
   "outputs": [],
   "source": [
    "df_hotel.describe(include = 'object').T"
   ]
  },
  {
   "cell_type": "code",
   "execution_count": null,
   "id": "e68a36f4",
   "metadata": {},
   "outputs": [],
   "source": [
    "df_hotel.shape"
   ]
  },
  {
   "cell_type": "code",
   "execution_count": null,
   "id": "93db1ef3",
   "metadata": {},
   "outputs": [],
   "source": [
    "round(df_hotel['booking_status'].value_counts(normalize=True)*100)"
   ]
  },
  {
   "cell_type": "raw",
   "id": "d60461fd",
   "metadata": {},
   "source": [
    "From above statistics we get to know :\n",
    "\n",
    "1) There are total 36275 rows and 4 unique classes in type_of_meal_plan. In that majority class with a count of 27835 is meal plan 1.\n",
    "2) Variable room_type_reserved is having 7 unique classes. Out of 7 unqiue room_type, majority of the type is room_type_1 and their count is 28130\n",
    "3) From market segment type online booking is highest among the other 4 segment with a count of 23214\n",
    "4) In the target variable we can see it is a binary class and there is class imbalance. Majority of the customers has honoured the reservation,which is 67 percent of the total bookings."
   ]
  },
  {
   "cell_type": "markdown",
   "id": "fbdf6030",
   "metadata": {},
   "source": [
    "### Checking for the summary statistics of the dataset"
   ]
  },
  {
   "cell_type": "code",
   "execution_count": null,
   "id": "7959fc9c",
   "metadata": {},
   "outputs": [],
   "source": [
    "df_hotel.describe().T"
   ]
  },
  {
   "cell_type": "raw",
   "id": "a7ab8835",
   "metadata": {},
   "source": [
    "From above statistics we get to know :\n",
    "    \n",
    "1) The maximum number of guests who occupied the hotel room over the age of 18 is 4 \n",
    "2) The maximum number of guests who occupied the hotel room below the age of 18 is 10 \n",
    "3) On an average 1 weekend night (Saturday or Sunday) the guest has stayed or booked to stay at the hotel\n",
    "4) The request for car parking space has majorly been asked for as a requirement (again this is a categorical variable)\n",
    "5) The Lead time between the date of arrival and the date of booking on an average is 85 days and a maximum of 443 days\n",
    "6) The data collected is for the years 2017, 2018 \n",
    "7) The arrival month we can get to see which month has the highest bookings, 12, December\n",
    "8) With the arrival date we can classify or infer the following \n",
    "    # The time of the booking , month end or the mid month --- > here most frequent bookings happend for the month end\n",
    "    # Weekday or the Weekend, where the cancellations happen the most \n",
    "9) In the collected data, this organisation has had more of repeated guest than the new visits.\n",
    "10) The maximum number of previous bookings that were cancelled and not cancelled by the customer prior to the current booking is 13 and 58 respectively\n",
    "11) Price of the room ranges from $80 to $540 , however the average booking price has been ~$103\n",
    "12) Comparatively there were not special requests made by the customer (e.g. high floor, view from the room, etc), the maximum number itself is 5"
   ]
  },
  {
   "cell_type": "markdown",
   "id": "9243f96d",
   "metadata": {},
   "source": [
    "### Univariate Analysis"
   ]
  },
  {
   "cell_type": "markdown",
   "id": "790c31b3",
   "metadata": {},
   "source": [
    "#### Type_of_meal_plan"
   ]
  },
  {
   "cell_type": "markdown",
   "id": "c86f3155",
   "metadata": {},
   "source": [
    "This variable explain the type of meal plan booked by the customer"
   ]
  },
  {
   "cell_type": "code",
   "execution_count": null,
   "id": "dc95a299",
   "metadata": {},
   "outputs": [],
   "source": [
    "plt.rcParams['figure.figsize'] = [5,5]\n",
    "\n",
    "df_hotel['type_of_meal_plan'].unique()"
   ]
  },
  {
   "cell_type": "code",
   "execution_count": null,
   "id": "689be2e0",
   "metadata": {},
   "outputs": [],
   "source": [
    "sns.countplot(df_hotel['type_of_meal_plan'].sort_values(),palette = colors)\n",
    "plt.title('Frequency of Type of Meal Plan')\n",
    "# plt.savefig(\"Frequency of Type of Meal Plan.jpeg\")\n",
    "\n",
    "for i,v in enumerate(df_hotel['type_of_meal_plan'].value_counts().sort_index()):\n",
    "    plt.text( x = i , y = v + 100, s = v, ha = 'center')\n",
    "    \n",
    "plt.savefig(\"Frequency of Type of Meal Plan.jpeg\")"
   ]
  },
  {
   "cell_type": "markdown",
   "id": "d93b828a",
   "metadata": {},
   "source": [
    "Inference:\n",
    "\n",
    "From above countplot it is clearly evident that meal plan 1 is prefered by most of the customers. It is followed by not selected and meal plan 2 with count of 5130 and 3305. Only a few customer prefer meal plan 3"
   ]
  },
  {
   "cell_type": "markdown",
   "id": "ac0974cd",
   "metadata": {},
   "source": [
    "#### Room_type_reserved"
   ]
  },
  {
   "cell_type": "markdown",
   "id": "8ab5aa2c",
   "metadata": {},
   "source": [
    "It explains the type of room reserved by the customer."
   ]
  },
  {
   "cell_type": "code",
   "execution_count": null,
   "id": "17d1139e",
   "metadata": {},
   "outputs": [],
   "source": [
    "sns.countplot(df_hotel['room_type_reserved'].sort_values(),palette= colors)\n",
    "plt.title('Frequency of Room Type Reserved')\n",
    "plt.xticks(rotation = 90)\n",
    "\n",
    "for i,v in enumerate(df_hotel['room_type_reserved'].value_counts().sort_index()):\n",
    "    plt.text( x = i , y = v + 300, s = v, ha = 'center')\n",
    "\n",
    "plt.savefig(\"Frequency of Room Type Reserved.jpeg\")"
   ]
  },
  {
   "cell_type": "code",
   "execution_count": null,
   "id": "24570d6f",
   "metadata": {
    "scrolled": true
   },
   "outputs": [],
   "source": [
    "df_hotel.groupby([\"room_type_reserved\"])[\"avg_price_per_room\"].mean()"
   ]
  },
  {
   "cell_type": "raw",
   "id": "5bd06a2a",
   "metadata": {},
   "source": [
    "Inference: \n",
    "\n",
    "Room type 1 is the most preferred type , second hightest is the room type 4.\n",
    "The average price for the room type 1 is ~$95"
   ]
  },
  {
   "cell_type": "markdown",
   "id": "562949ca",
   "metadata": {},
   "source": [
    "#### Market_segment_type"
   ]
  },
  {
   "cell_type": "markdown",
   "id": "af568920",
   "metadata": {},
   "source": [
    "The \"Market Segment\" refers to the designation or classification of the source of the booking made by the guest. It is a categorical variable that provides information about the type of customer or entity that made the reservation."
   ]
  },
  {
   "cell_type": "code",
   "execution_count": null,
   "id": "a700b120",
   "metadata": {},
   "outputs": [],
   "source": [
    "sns.countplot(df_hotel['market_segment_type'].sort_values(),palette= colors)\n",
    "plt.title('Count of Market Segment Type')\n",
    "plt.xticks(rotation = 45)\n",
    "\n",
    "for i,v in enumerate(df_hotel['market_segment_type'].value_counts().sort_index()):\n",
    "    plt.text( x = i , y = v + 200, s = v, ha = 'center')\n",
    "    \n",
    "plt.savefig('Count of Market Segment Type.jpeg')"
   ]
  },
  {
   "cell_type": "markdown",
   "id": "3ef0f322",
   "metadata": {},
   "source": [
    "Inference: \n",
    "\n",
    "From above plot it is clearly evident that customers who reserved rooms through online modes is higher compared to other modes of reservation.\n",
    "The industry is driven by the online bookings offlate, and more thoughts on the cancellation of online cancellation should be given a thought"
   ]
  },
  {
   "cell_type": "markdown",
   "id": "349fb5ee",
   "metadata": {},
   "source": [
    "#### No_of_adults"
   ]
  },
  {
   "cell_type": "markdown",
   "id": "3f356149",
   "metadata": {},
   "source": [
    "The \"number of adults\" refers to the number of guests over the age of 18 who will be occupying a hotel room"
   ]
  },
  {
   "cell_type": "code",
   "execution_count": null,
   "id": "f26651ca",
   "metadata": {},
   "outputs": [],
   "source": [
    "df_hotel['no_of_adults'].unique()"
   ]
  },
  {
   "cell_type": "code",
   "execution_count": null,
   "id": "180d946d",
   "metadata": {},
   "outputs": [],
   "source": [
    "sns.countplot(df_hotel['no_of_adults'].sort_values(),palette = colors)\n",
    "plt.title('Breakdown of No of Adults')\n",
    "\n",
    "for i,v in enumerate(df_hotel['no_of_adults'].value_counts().sort_index()):\n",
    "    plt.text( x = i , y = v + 200, s = v, ha = 'center')\n",
    "\n",
    "plt.savefig(\"Breakdown of No of Adults.jpeg\")"
   ]
  },
  {
   "cell_type": "raw",
   "id": "a67b0666",
   "metadata": {},
   "source": [
    "Inference : \n",
    "\n",
    "For the given data, the highest bookings has happened for the 2 adults."
   ]
  },
  {
   "cell_type": "markdown",
   "id": "1dc56d68",
   "metadata": {},
   "source": [
    "#### No_of_children"
   ]
  },
  {
   "cell_type": "markdown",
   "id": "d37907e7",
   "metadata": {},
   "source": [
    "The \"number of children\" refers to the number of guests below the age of 18 who will be occupying a hotel room"
   ]
  },
  {
   "cell_type": "code",
   "execution_count": null,
   "id": "3b6b07b3",
   "metadata": {},
   "outputs": [],
   "source": [
    "sns.countplot(df_hotel['no_of_children'].sort_values(),palette = colors)\n",
    "plt.title('Breakdown of No of Children')\n",
    "\n",
    "for i,v in enumerate(df_hotel['no_of_children'].value_counts().sort_index()):\n",
    "    plt.text( x = i , y = v + 350, s = v, ha = 'center')\n",
    "\n",
    "plt.savefig(\"Breakdown of No of Children.jpeg\")"
   ]
  },
  {
   "cell_type": "raw",
   "id": "52e18da0",
   "metadata": {},
   "source": [
    "Inference: \n",
    "The highest booking is done with zero kids, so it is clearly evident that the booking pattern is highest for 2 adults "
   ]
  },
  {
   "cell_type": "markdown",
   "id": "687f6b38",
   "metadata": {},
   "source": [
    "#### No_of_weekend_nights"
   ]
  },
  {
   "cell_type": "markdown",
   "id": "47e88efa",
   "metadata": {},
   "source": [
    "The \"no_of_weekend_nights\" variable refers to the number of weekend nights (i.e., Saturday, or Sunday nights) that a guest will be staying at the hotel as part of their reservation. "
   ]
  },
  {
   "cell_type": "code",
   "execution_count": null,
   "id": "68b9e930",
   "metadata": {},
   "outputs": [],
   "source": [
    "sns.countplot(df_hotel['no_of_weekend_nights'].sort_values(),palette = colors)\n",
    "plt.title('Frequency of No of Weekend Nights')\n",
    "\n",
    "for i,v in enumerate(df_hotel['no_of_weekend_nights'].value_counts().sort_index()):\n",
    "    plt.text( x = i , y = v + 350, s = v, ha = 'center')\n",
    "    \n",
    "plt.savefig(\"Frequency of No of Weekend Nights.jpeg\")"
   ]
  },
  {
   "cell_type": "raw",
   "id": "59082b3b",
   "metadata": {},
   "source": [
    "Inference : \n",
    "From the above plot it is claerly evident that, least of bookings has happened with 0 no of weekend nights"
   ]
  },
  {
   "cell_type": "markdown",
   "id": "fce34388",
   "metadata": {},
   "source": [
    "#### No_of_week_nights"
   ]
  },
  {
   "cell_type": "markdown",
   "id": "df3431b2",
   "metadata": {},
   "source": [
    "It is the number of weekday nights (i.e., Monday to Friday nights) that a guest will be staying at the hotel as part of their reservation."
   ]
  },
  {
   "cell_type": "code",
   "execution_count": null,
   "id": "4cd9534b",
   "metadata": {},
   "outputs": [],
   "source": [
    "sns.countplot(df_hotel['no_of_week_nights'].sort_values(),palette = colors)\n",
    "plt.title('Investigating the Frequency of No of Week Nights')\n",
    "\n",
    "for i,v in enumerate(df_hotel['no_of_week_nights'].value_counts().sort_index()):\n",
    "    plt.text( x = i , y = v + 150, s = v, ha = 'center')\n",
    "plt.savefig(\"Investigating the Frequency of No of Week Nights.jpeg\")"
   ]
  },
  {
   "cell_type": "raw",
   "id": "2595d202",
   "metadata": {},
   "source": [
    "Inference: \n",
    "\n",
    "From the above visuals it is clearly seen that the reservation for the weekday nights are most for 1- 3 days"
   ]
  },
  {
   "cell_type": "markdown",
   "id": "1d328231",
   "metadata": {},
   "source": [
    "#### Lead_time"
   ]
  },
  {
   "cell_type": "markdown",
   "id": "09fa8fe8",
   "metadata": {},
   "source": [
    "It is the amount of time between when a guest makes a reservation and when their planned arrival date at the hotel is. It is a measure of how much advance notice the hotel has before the guest arrives."
   ]
  },
  {
   "cell_type": "code",
   "execution_count": null,
   "id": "b558c407",
   "metadata": {},
   "outputs": [],
   "source": [
    "plt.rcParams[\"figure.figsize\"] = [8,5]\n",
    "sns.countplot(df_hotel['no_of_week_nights'].sort_values(),palette = colors)\n",
    "plt.title('Investigating the Frequency of Lead Time')\n",
    "\n",
    "for i,v in enumerate(df_hotel['no_of_week_nights'].value_counts().sort_index()):\n",
    "    plt.text( x = i , y = v + 150, s = v, ha = 'center')\n",
    "\n",
    "plt.savefig(\"Investigating the Frequency of Lead Time.jpeg\")"
   ]
  },
  {
   "cell_type": "raw",
   "id": "9b775063",
   "metadata": {},
   "source": [
    "Inference: \n",
    "\n",
    "The difference between the booking time and the arrival time is the lead time which has had a trend of 1 to 3 days prior booking, however there are outliers with a maximum of 418 days, which is almost an year prior arrival date."
   ]
  },
  {
   "cell_type": "markdown",
   "id": "1bf2dd38",
   "metadata": {},
   "source": [
    "#### Arrival_year"
   ]
  },
  {
   "cell_type": "markdown",
   "id": "cfb19184",
   "metadata": {},
   "source": [
    "\"Arrival year\" refers to the year in which a guest is scheduled to arrive for their reservation at a hotel. "
   ]
  },
  {
   "cell_type": "code",
   "execution_count": null,
   "id": "85beafa3",
   "metadata": {},
   "outputs": [],
   "source": [
    "plt.pie(df_hotel['arrival_year'].value_counts(), labels = df_hotel['arrival_year'].value_counts().index,\n",
    "        autopct = '%.2f%%', shadow = True, explode = [0.1,0.05],colors = colors)\n",
    "plt.title('Proportions of Bookings Yearly')\n",
    "\n",
    "\n",
    "plt.savefig(\"Proportions of Bookings Yearly.jpeg\")\n",
    "\n",
    "plt.show()"
   ]
  },
  {
   "cell_type": "markdown",
   "id": "44f2d056",
   "metadata": {},
   "source": [
    "Inference: \n",
    "The given data Set is dominated by the 2018 data, or the bookings have boosted high in the year 2018"
   ]
  },
  {
   "cell_type": "markdown",
   "id": "3ede36ad",
   "metadata": {},
   "source": [
    "#### Arrival_month"
   ]
  },
  {
   "cell_type": "markdown",
   "id": "6b583338",
   "metadata": {},
   "source": [
    "\"Arrival month\" refers to the month in which a guest is scheduled to arrive for their reservation at a hotel."
   ]
  },
  {
   "cell_type": "code",
   "execution_count": null,
   "id": "868fceb0",
   "metadata": {},
   "outputs": [],
   "source": [
    "plt.pie(df_hotel['arrival_month'].value_counts(), labels = df_hotel['arrival_month'].value_counts().index,\n",
    "        autopct = '%.1f%%', shadow = True,colors = colors )\n",
    "plt.title('Proportions of monthly bookings')\n",
    "\n",
    "plt.savefig('Proportions of monthly bookings.jpeg')\n",
    "plt.show()"
   ]
  },
  {
   "cell_type": "markdown",
   "id": "94fc4da5",
   "metadata": {},
   "source": [
    "Inference: \n",
    "8,9,10 has the highest no bookings. which is August, September and November. So in the financial year perspective 2nd and 3rd has the highest footfall / bookings\n",
    "There is a scope for feature engineering  for this column, to bin the months quarter wise or bin it season wise to establish better pattern with the target variable\n"
   ]
  },
  {
   "cell_type": "markdown",
   "id": "50bfaf6b",
   "metadata": {},
   "source": [
    "#### Repeated_guest"
   ]
  },
  {
   "cell_type": "markdown",
   "id": "b38e49ca",
   "metadata": {},
   "source": [
    "This variable explains whether a guest who made a hotel reservation has stayed at the same hotel before."
   ]
  },
  {
   "cell_type": "code",
   "execution_count": null,
   "id": "08a0c282",
   "metadata": {},
   "outputs": [],
   "source": [
    "plt.rcParams[\"figure.figsize\"] = [8,5]\n",
    "sns.countplot(df_hotel['repeated_guest'].sort_values(),palette = colors)\n",
    "plt.title('Frequency of Repeated Guest')\n",
    "\n",
    "for i,v in enumerate(df_hotel['repeated_guest'].value_counts().sort_index()):\n",
    "    plt.text( x = i , y = v + 150, s = v, ha = 'center')\n",
    "\n",
    "plt.savefig(\"Frequency of Repeated Guest.jpeg\")"
   ]
  },
  {
   "cell_type": "raw",
   "id": "7ed816ae",
   "metadata": {},
   "source": [
    "Inference :\n",
    "\n",
    "This hotel has a loyal customer base, and also scope for increasing the footfall of new users"
   ]
  },
  {
   "cell_type": "markdown",
   "id": "3a2039b4",
   "metadata": {},
   "source": [
    "#### No_of_previous_cancellations"
   ]
  },
  {
   "cell_type": "markdown",
   "id": "902e265b",
   "metadata": {},
   "source": [
    "\"No of previous cancellations\" refers to the number of times a guest has previously cancelled a reservation at the hotel"
   ]
  },
  {
   "cell_type": "code",
   "execution_count": null,
   "id": "e300b697",
   "metadata": {},
   "outputs": [],
   "source": [
    "sns.countplot(df_hotel['no_of_previous_cancellations'].sort_values(),palette = colors)\n",
    "plt.title('Breakdown of No of Previous Cancellations')\n",
    "\n",
    "for i,v in enumerate(df_hotel['no_of_previous_cancellations'].value_counts().sort_index()):\n",
    "    plt.text( x = i , y = v + 150, s = v, ha = 'center')\n",
    "    \n",
    "plt.savefig(\"Breakdown of No of Previous Cancellations.jpeg\")"
   ]
  },
  {
   "cell_type": "raw",
   "id": "507213f6",
   "metadata": {},
   "source": [
    "Inference : \n",
    "    \n",
    "From the history of bookings, it is clear that the previous bookings have been honoured duely by the customer base.\n",
    "This data clearly seems to have data imbalance."
   ]
  },
  {
   "cell_type": "markdown",
   "id": "942e11bf",
   "metadata": {},
   "source": [
    "#### Avg_price_per_room"
   ]
  },
  {
   "cell_type": "markdown",
   "id": "e08b3b70",
   "metadata": {},
   "source": [
    "Average price per day of the reservation; prices of the rooms are dynamic. (in Dollars)"
   ]
  },
  {
   "cell_type": "code",
   "execution_count": null,
   "id": "29b8624c",
   "metadata": {},
   "outputs": [],
   "source": [
    "sns.distplot(df_hotel['avg_price_per_room'], color = '#97C1A9')\n",
    "plt.title('Understanding the distribution of Average Price Per Room')\n",
    "plt.show()"
   ]
  },
  {
   "cell_type": "markdown",
   "id": "0e2bda20",
   "metadata": {},
   "source": [
    "#### No_of_special_requests"
   ]
  },
  {
   "cell_type": "markdown",
   "id": "a4e18d1e",
   "metadata": {},
   "source": [
    "The \"Number of special requests\" in the Hotel Reservations dataset refers to the number of additional services or special requests made by a guest when booking a hotel reservation. "
   ]
  },
  {
   "cell_type": "code",
   "execution_count": null,
   "id": "73ceb3f6",
   "metadata": {},
   "outputs": [],
   "source": [
    "sns.countplot(df_hotel['no_of_special_requests'].sort_values(),palette = colors)\n",
    "plt.title('Breakdown of No of Special Requests')\n",
    "\n",
    "for i,v in enumerate(df_hotel['no_of_special_requests'].value_counts().sort_index()):\n",
    "    plt.text( x = i , y = v + 150, s = v, ha = 'center')\n",
    "    \n",
    "plt.savefig('Breakdown of No of Special Requests.jpeg')"
   ]
  },
  {
   "cell_type": "code",
   "execution_count": null,
   "id": "8b01acb7",
   "metadata": {},
   "outputs": [],
   "source": [
    "round(df_hotel[\"no_of_special_requests\"].value_counts(normalize= True)*100)"
   ]
  },
  {
   "cell_type": "raw",
   "id": "a131561e",
   "metadata": {},
   "source": [
    "Inference: \n",
    "The data is highly positively skewed and there were no much ask for special requests as well ."
   ]
  },
  {
   "cell_type": "markdown",
   "id": "94ad0413",
   "metadata": {},
   "source": [
    "#### Booking_status"
   ]
  },
  {
   "cell_type": "markdown",
   "id": "0ec43669",
   "metadata": {},
   "source": [
    "Flag indicating if the booking was canceled or not. This is the target variable"
   ]
  },
  {
   "cell_type": "code",
   "execution_count": null,
   "id": "3c333118",
   "metadata": {},
   "outputs": [],
   "source": [
    "plt.pie(df_hotel['booking_status'].value_counts(), labels = df_hotel['booking_status'].value_counts().index,\n",
    "        autopct = '%.2f%%', shadow = True, explode = [0.05,0.025],colors = colors)\n",
    "plt.title('Distribution of Booking status')\n",
    "plt.savefig('Distribution of Booking status.jpeg')\n",
    "plt.show()\n"
   ]
  },
  {
   "cell_type": "markdown",
   "id": "64d207aa",
   "metadata": {},
   "source": [
    "From the above distribution it is clearly evident that there is class imbalance in the target variable"
   ]
  },
  {
   "cell_type": "markdown",
   "id": "24b514c5",
   "metadata": {},
   "source": [
    "### Bivariate Analysis"
   ]
  },
  {
   "cell_type": "markdown",
   "id": "c2f3d232",
   "metadata": {},
   "source": [
    "#### Avg_price_per_room vs Booking_status"
   ]
  },
  {
   "cell_type": "code",
   "execution_count": null,
   "id": "abe71373",
   "metadata": {},
   "outputs": [],
   "source": [
    "sns.barplot(x = df_hotel['booking_status'].sort_values(), y = df_hotel['avg_price_per_room'],palette= colors)\n",
    "plt.title('Examining the Variability of Average Price Per Room in Booking Status')\n",
    "\n",
    "for i,v in enumerate(round(df_hotel.groupby('booking_status')['avg_price_per_room'].mean(),2)):\n",
    "    plt.text(x = i , y = v + 2, s = v , ha = 'center')\n",
    "    \n",
    "plt.savefig(\"Examining the Variability of Average Price Per Room in Booking Status.jpeg\")"
   ]
  },
  {
   "cell_type": "raw",
   "id": "37b17070",
   "metadata": {},
   "source": [
    "Inference: \n",
    "The average booking costs for both cancelled and non - cancelled status are almost the same but the not cancelled comparatively has the a higher cost of booking    "
   ]
  },
  {
   "cell_type": "markdown",
   "id": "81159691",
   "metadata": {},
   "source": [
    "#### No_of_week_nights vs Booking_status"
   ]
  },
  {
   "cell_type": "code",
   "execution_count": null,
   "id": "e9e611c1",
   "metadata": {},
   "outputs": [],
   "source": [
    "sns.barplot(x = df_hotel['booking_status'].sort_values(), y = df_hotel['no_of_week_nights'],palette = colors)\n",
    "plt.title('Examining the Variability of No of Week Nights in Booking Status')\n",
    "\n",
    "for i,v in enumerate(round(df_hotel.groupby('booking_status')['no_of_week_nights'].mean(),2)):\n",
    "    plt.text(x = i , y = v , s = v , ha = 'center')\n",
    "    \n",
    "plt.savefig('Examining the Variability of No of Week Nights in Booking Status.jpeg')"
   ]
  },
  {
   "cell_type": "markdown",
   "id": "3da384a6",
   "metadata": {},
   "source": [
    "Inference: \n",
    "This plot can help us visualize how booking status varies with the length of the stay. For example, we might find that bookings with longer weeknight stays are more likely to result in a cancellation"
   ]
  },
  {
   "cell_type": "markdown",
   "id": "1d50b3e4",
   "metadata": {},
   "source": [
    "#### No_of_adults vs Booking_status"
   ]
  },
  {
   "cell_type": "code",
   "execution_count": null,
   "id": "3f92f87f",
   "metadata": {},
   "outputs": [],
   "source": [
    "sns.barplot(x = df_hotel['booking_status'].sort_values(), y = df_hotel['no_of_adults'], palette = colors)\n",
    "plt.title('Examining the Variability of No of Adults in Booking Status')\n",
    "\n",
    "for i,v in enumerate(round(df_hotel.groupby('booking_status')['no_of_adults'].mean())):\n",
    "    plt.text(x = i , y = v - 0.5, s = v , ha = 'center')\n",
    "    \n",
    "plt.savefig('Examining the Variability of No of Adults in Booking Status.jpeg')"
   ]
  },
  {
   "cell_type": "markdown",
   "id": "863ad4ab",
   "metadata": {},
   "source": [
    "#### Type_of_meal_plan vs Booking_status"
   ]
  },
  {
   "cell_type": "code",
   "execution_count": null,
   "id": "68e098b8",
   "metadata": {},
   "outputs": [],
   "source": [
    "sns.countplot(x = df_hotel['type_of_meal_plan'] , hue = df_hotel['booking_status'],palette = colors)\n",
    "plt.title('Describing the Count of Type of Meal Plan by Booking Status')\n",
    "plt.savefig('Describing the Count of Type of Meal Plan by Booking Status.jpeg')\n",
    "plt.show()"
   ]
  },
  {
   "cell_type": "raw",
   "id": "eff83967",
   "metadata": {},
   "source": [
    "Inference: \n",
    "The meal plan 3 has merely been chosen by the customers, meal plan 1 is the mostfrequently asked for type."
   ]
  },
  {
   "cell_type": "markdown",
   "id": "185ad5e0",
   "metadata": {},
   "source": [
    "#### Repeated_guest vs Booking_status"
   ]
  },
  {
   "cell_type": "code",
   "execution_count": null,
   "id": "8960a065",
   "metadata": {},
   "outputs": [],
   "source": [
    "sns.countplot(x = df_hotel['repeated_guest'] , hue = df_hotel['booking_status'],palette = colors)\n",
    "plt.title('Describing the Count of Repeated Guests by Booking Status')\n",
    "plt.savefig(\"Describing the Count of Repeated Guests by Booking Status.jpeg\")\n",
    "plt.show()"
   ]
  },
  {
   "cell_type": "markdown",
   "id": "84a03b64",
   "metadata": {},
   "source": [
    "#### No_of_weekend_nights vs Booking_status"
   ]
  },
  {
   "cell_type": "code",
   "execution_count": null,
   "id": "3deaafbe",
   "metadata": {},
   "outputs": [],
   "source": [
    "sns.barplot(x = df_hotel['booking_status'] , y = df_hotel['no_of_weekend_nights'],palette = colors)\n",
    "plt.title('Examining the Variability of No of Weekend Nights in Booking Status')\n",
    "\n",
    "for i,v in enumerate(round(df_hotel.groupby('booking_status')['no_of_weekend_nights'].mean())):\n",
    "    plt.text(x = i , y = v - 0.2, s = v , ha = 'center')\n",
    "\n",
    "plt.savefig(\"Examining the Variability of No of Weekend Nights in Booking Status.jpeg\")"
   ]
  },
  {
   "cell_type": "markdown",
   "id": "55233b9c",
   "metadata": {},
   "source": [
    "#### Room_type_reserved vs Booking_status"
   ]
  },
  {
   "cell_type": "code",
   "execution_count": null,
   "id": "aafaa30d",
   "metadata": {},
   "outputs": [],
   "source": [
    "sns.countplot(x = df_hotel['room_type_reserved'] , hue = df_hotel['booking_status'],palette = colors)\n",
    "plt.title('Describing the Count of Room Type Reserved by Booking Status')\n",
    "plt.savefig(\"Describing the Count of Room Type Reserved by Booking Status.jpeg\")\n",
    "plt.show()"
   ]
  },
  {
   "cell_type": "markdown",
   "id": "33aae68e",
   "metadata": {},
   "source": [
    "#### Required_car_parking_space vs Avg_price_per_room"
   ]
  },
  {
   "cell_type": "code",
   "execution_count": null,
   "id": "5fec4cd2",
   "metadata": {},
   "outputs": [],
   "source": [
    "sns.barplot(x = df_hotel['required_car_parking_space'] , y = df_hotel['avg_price_per_room'],palette = colors)\n",
    "plt.title('Examining the Variability of Average Price Per Room in Required Car Parking Space')\n",
    "\n",
    "for i,v in enumerate(round(df_hotel.groupby('required_car_parking_space')['avg_price_per_room'].mean(),2)):\n",
    "    plt.text(x = i , y = v + 3, s = v , ha = 'center')\n",
    "    \n",
    "plt.savefig(\"Examining the Variability of Average Price Per Room in Required Car Parking Space.jpeg\")"
   ]
  },
  {
   "cell_type": "raw",
   "id": "e7749a89",
   "metadata": {},
   "source": [
    "Inference: The average price of the room is significantly higher for those with the request of car parking space "
   ]
  },
  {
   "cell_type": "markdown",
   "id": "e21c1e5d",
   "metadata": {},
   "source": [
    "#### Type_of_meal_plan vs Avg_price_per_room"
   ]
  },
  {
   "cell_type": "code",
   "execution_count": null,
   "id": "61b710be",
   "metadata": {},
   "outputs": [],
   "source": [
    "sns.barplot(x = df_hotel['type_of_meal_plan'].sort_values() , y = df_hotel['avg_price_per_room'],palette = colors)\n",
    "plt.title('Examining the Variability of Average Price Per Room in Type of Meal Plan')\n",
    "\n",
    "for i,v in enumerate(round(df_hotel.groupby('type_of_meal_plan')['avg_price_per_room'].mean(),2)):\n",
    "    plt.text(x = i , y = v + 3, s = v , ha = 'center')\n",
    "    \n",
    "plt.savefig(\"Examining the Variability of Average Price Per Room in Type of Meal Plan.jpeg\")"
   ]
  },
  {
   "cell_type": "raw",
   "id": "95cd50c6",
   "metadata": {},
   "source": [
    "Inference: Average price of meal plan 2 category is the highest of all and meal plan 1 and not selected meal plan has almost similar pricing pattern, whereas the meal plann 3 has the lowest price"
   ]
  },
  {
   "cell_type": "markdown",
   "id": "341273e8",
   "metadata": {},
   "source": [
    "#### Market_segment_type vs Booking_status"
   ]
  },
  {
   "cell_type": "code",
   "execution_count": null,
   "id": "bc2ce880",
   "metadata": {},
   "outputs": [],
   "source": [
    "sns.countplot(x = df_hotel['market_segment_type'] , hue = df_hotel['booking_status'],palette = colors)\n",
    "plt.title('Comparison of Market Segment Type by Booking Status')\n",
    "plt.savefig(\"Comparison of Market Segment Type by Booking Status.jpeg\")\n",
    "plt.show()"
   ]
  },
  {
   "cell_type": "raw",
   "id": "7c43cd14",
   "metadata": {},
   "source": [
    "Inference: Out of all the markets the online has the highest booking as well as the cancellations, while offline bookings have a better non cancelled proportions"
   ]
  },
  {
   "cell_type": "markdown",
   "id": "11325778",
   "metadata": {},
   "source": [
    "#### No_of_week_nights vs Avg_price_per_room"
   ]
  },
  {
   "cell_type": "code",
   "execution_count": null,
   "id": "d9154cde",
   "metadata": {},
   "outputs": [],
   "source": [
    "sns.scatterplot(x = df_hotel['no_of_week_nights'], y = df_hotel['avg_price_per_room'])\n",
    "plt.title('Visualizing the Spread of Average Price Per Room in No of Week Nights')\n",
    "plt.savefig('Visualizing the Spread of Average Price Per Room in No of Week Nights.jpeg')\n",
    "plt.show()"
   ]
  },
  {
   "cell_type": "markdown",
   "id": "4551a9f2",
   "metadata": {},
   "source": [
    "#### No_of_weekend_nights vs Avg_price_per_room"
   ]
  },
  {
   "cell_type": "code",
   "execution_count": null,
   "id": "aa471a07",
   "metadata": {},
   "outputs": [],
   "source": [
    "sns.scatterplot(x = df_hotel['no_of_weekend_nights'], y = df_hotel['avg_price_per_room'])\n",
    "plt.title('Visualizing the Spread of Average Price Per Room in No of Weekend Nights')\n",
    "plt.savefig('Visualizing the Spread of Average Price Per Room in No of Weekend Nights.jpeg')\n",
    "plt.show()"
   ]
  },
  {
   "cell_type": "markdown",
   "id": "6ea3d13e",
   "metadata": {},
   "source": [
    "### Multivariate Analysis"
   ]
  },
  {
   "cell_type": "markdown",
   "id": "6fa9eb9e",
   "metadata": {},
   "source": [
    "#### Type_of_meal_plan vs Avg_price_per_room vs Booking_status"
   ]
  },
  {
   "cell_type": "code",
   "execution_count": null,
   "id": "2154563f",
   "metadata": {},
   "outputs": [],
   "source": [
    "sns.barplot(x = df_hotel['type_of_meal_plan'].sort_values() , y = df_hotel['avg_price_per_room'], \n",
    "           hue = df_hotel['booking_status'].sort_values(), palette = colors)\n",
    "\n",
    "plt.title('Exploring the Interactions among Type of Meal Plan , Average Price Per Room , Booking Status')\n",
    "\n",
    "for i,v in enumerate(round(df_hotel.groupby(['type_of_meal_plan','booking_status']\n",
    "                                           )['avg_price_per_room'].mean(),2).sort_index()):\n",
    "    plt.text(x = i-i/2 - 0.2, y = v + 3, s = v , ha = 'center')\n",
    "    \n",
    "plt.savefig('Exploring the Interactions among Type of Meal Plan , Average Price Per Room , Booking Status.jpeg')"
   ]
  },
  {
   "cell_type": "raw",
   "id": "8e8eb4a5",
   "metadata": {},
   "source": [
    "Innference:"
   ]
  },
  {
   "cell_type": "markdown",
   "id": "83387ec9",
   "metadata": {},
   "source": [
    "#### Room_type_reserved vs Avg_price_per_room vs Booking_status"
   ]
  },
  {
   "cell_type": "code",
   "execution_count": null,
   "id": "4962d4a3",
   "metadata": {},
   "outputs": [],
   "source": [
    "sns.barplot(x = df_hotel['room_type_reserved'].sort_values() , y = df_hotel['avg_price_per_room'], \n",
    "           hue = df_hotel['booking_status'].sort_values(), palette = colors)\n",
    "\n",
    "plt.title('Exploring the Interactions among Room Type Reserved , Average Price Per Room , Booking Status')\n",
    "\n",
    "for i,v in enumerate(round(df_hotel.groupby(['room_type_reserved','booking_status']\n",
    "                                           )['avg_price_per_room'].mean(),2).sort_index()):\n",
    "    plt.text(x = i-i/2 - 0.2, y = v + 3, s = v , ha = 'center')\n",
    "    \n",
    "plt.savefig('Exploring the Interactions among Room Type Reserved , Average Price Per Room , Booking Status.jpeg')"
   ]
  },
  {
   "cell_type": "raw",
   "id": "29a5ed52",
   "metadata": {},
   "source": [
    "Inference"
   ]
  },
  {
   "cell_type": "markdown",
   "id": "a80b2147",
   "metadata": {},
   "source": [
    "#### Market_segment_type vs Avg_price_per_room vs Booking_status"
   ]
  },
  {
   "cell_type": "code",
   "execution_count": null,
   "id": "62876014",
   "metadata": {},
   "outputs": [],
   "source": [
    "sns.barplot(x = df_hotel['market_segment_type'], y = df_hotel['avg_price_per_room'], hue = df_hotel['booking_status'], \n",
    "            palette = colors)\n",
    "plt.title('Examining the Predictive Power of Market Segment Type and Average Price Per Room on Booking_status')\n",
    "plt.savefig('Examining the Predictive Power of Market Segment Type and Average Price Per Room on Booking_status.jpeg')\n",
    "plt.show()"
   ]
  },
  {
   "cell_type": "raw",
   "id": "d7d1dae8",
   "metadata": {},
   "source": [
    "Inference:"
   ]
  },
  {
   "cell_type": "markdown",
   "id": "fc687171",
   "metadata": {},
   "source": [
    "#### Room_type_reserved vs No_of_weekend_nights vs Booking_status"
   ]
  },
  {
   "cell_type": "code",
   "execution_count": null,
   "id": "31957477",
   "metadata": {},
   "outputs": [],
   "source": [
    "sns.barplot(x = df_hotel['room_type_reserved'].sort_values() , y = df_hotel['no_of_weekend_nights'], \n",
    "           hue = df_hotel['booking_status'].sort_values(), palette = colors)\n",
    "\n",
    "plt.title('Examining the Predictive Power of Room Type Reserved and No of Weekend Nights on Booking_status')\n",
    "\n",
    "for i,v in enumerate(round(df_hotel.groupby(['room_type_reserved','booking_status']\n",
    "                                           )['no_of_weekend_nights'].mean(),2).sort_index()):\n",
    "    plt.text(x = i-i/2 - 0.2, y = v + 0.05, s = v , ha = 'center')\n",
    "    \n",
    "plt.savefig('Examining the Predictive Power of Room Type Reserved and No of Weekend Nights on Booking_status.jpeg')"
   ]
  },
  {
   "cell_type": "raw",
   "id": "a8556d53",
   "metadata": {},
   "source": [
    "Inference:"
   ]
  },
  {
   "cell_type": "markdown",
   "id": "d446f7ca",
   "metadata": {},
   "source": [
    "#### Room_type_reserved vs No_of_week_nights vs Booking_status"
   ]
  },
  {
   "cell_type": "code",
   "execution_count": null,
   "id": "7000d563",
   "metadata": {},
   "outputs": [],
   "source": [
    "sns.barplot(x = df_hotel['room_type_reserved'].sort_values() , y = df_hotel['no_of_week_nights'], \n",
    "           hue = df_hotel['booking_status'].sort_values(), palette = colors)\n",
    "\n",
    "plt.title('Exploring the Interactions among Room Type Reserved , No of Week Nights , Booking_status')\n",
    "\n",
    "for i,v in enumerate(round(df_hotel.groupby(['room_type_reserved','booking_status']\n",
    "                                           )['no_of_week_nights'].mean(),2).sort_index()):\n",
    "    plt.text(x = i-i/2 - 0.2, y = v + 0.05, s = v , ha = 'center')\n",
    "    \n",
    "plt.savefig('Exploring the Interactions among Room Type Reserved , No of Week Nights , Booking_status.jpeg')"
   ]
  },
  {
   "cell_type": "raw",
   "id": "add194fd",
   "metadata": {},
   "source": [
    "Inference:"
   ]
  },
  {
   "cell_type": "markdown",
   "id": "27d0f70b",
   "metadata": {},
   "source": [
    "#### Repeated_guest vs No_of_weekend_nights vs Booking_status"
   ]
  },
  {
   "cell_type": "code",
   "execution_count": null,
   "id": "04e60b44",
   "metadata": {},
   "outputs": [],
   "source": [
    "sns.barplot(x = df_hotel['repeated_guest'].sort_values() , y = df_hotel['no_of_weekend_nights'], \n",
    "           hue = df_hotel['booking_status'].sort_values(), palette = colors)\n",
    "\n",
    "plt.title('Exploring the Interactions among Repeated Guest , No of Weekend Nights , Booking_status')\n",
    "\n",
    "for i,v in enumerate(round(df_hotel.groupby(['repeated_guest','booking_status']\n",
    "                                           )['no_of_weekend_nights'].mean(),2).sort_index()):\n",
    "    plt.text(x = i-i/2 - 0.2, y = v + 0.05, s = v , ha = 'center')\n",
    "\n",
    "plt.savefig('Exploring the Interactions among Repeated Guest , No of Weekend Nights , Booking_status.jpeg')"
   ]
  },
  {
   "cell_type": "markdown",
   "id": "b34a93c9",
   "metadata": {},
   "source": [
    "#### No_of_week_nights vs Avg_price_per_room vs Booking_status"
   ]
  },
  {
   "cell_type": "code",
   "execution_count": null,
   "id": "e21217fe",
   "metadata": {},
   "outputs": [],
   "source": [
    "sns.scatterplot(x = df_hotel['no_of_week_nights'] , y = df_hotel['avg_price_per_room'], \n",
    "                hue = df_hotel['booking_status'])\n",
    "\n",
    "plt.title('Visualizing the Spread of No of Week Nights and Average Price Per Room on Booking Status')\n",
    "plt.savefig('Visualizing the Spread of No of Week Nights and Average Price Per Room on Booking Status.jpeg')\n",
    "\n",
    "plt.show()"
   ]
  },
  {
   "cell_type": "markdown",
   "id": "2dc5e37a",
   "metadata": {},
   "source": [
    "#### No_of_weekend_nights vs Avg_price_per_room vs Booking_status"
   ]
  },
  {
   "cell_type": "code",
   "execution_count": null,
   "id": "51a5f9b4",
   "metadata": {},
   "outputs": [],
   "source": [
    "sns.scatterplot(x = df_hotel['no_of_weekend_nights'] , y = df_hotel['avg_price_per_room'], hue = df_hotel['booking_status'])\n",
    "plt.title('Visualizing the Spread of No of Weekend Nights and Average Price Per Room on Booking Status')\n",
    "plt.savefig('Visualizing the Spread of No of Weekend Nights and Average Price Per Room on Booking Status.jpeg')\n",
    "plt.show()"
   ]
  },
  {
   "cell_type": "code",
   "execution_count": null,
   "id": "78427365",
   "metadata": {},
   "outputs": [],
   "source": [
    "plt.rcParams[\"figure.figsize\"] = [15,10]\n",
    "sns.heatmap(df_hotel.corr(), annot = True, cmap = \"Blues\" , mask = np.triu(df_hotel.corr()))\n",
    "plt.title('Correlation Heatmap')\n",
    "plt.savefig('Correlation Heatmap.jpeg')\n",
    "plt.show()"
   ]
  },
  {
   "cell_type": "raw",
   "id": "c9909f2a",
   "metadata": {},
   "source": [
    "Inference: \n",
    "    \n",
    "From the correlation matrix it is found that not much of the independent variable has correlation with each other.\n",
    "Hence no multicollinearity in between the predictor variables.\n",
    "Highest correlation exist between \"no of prev bookings not cancelled, and repeated_guest, no of prev cancellations\""
   ]
  },
  {
   "cell_type": "markdown",
   "id": "1c05ff9e",
   "metadata": {},
   "source": [
    "### Performing hypothesis testing to find the significant variables"
   ]
  },
  {
   "cell_type": "markdown",
   "id": "da184337",
   "metadata": {},
   "source": [
    "Hypothesis :\n",
    "\n",
    "H0 : There is no significant relationship between the dependent and independent variable\n",
    "\n",
    "Ha : There is significant relationship between the dependent and independent variable\n",
    "\n",
    "Significance level :\n",
    "\n",
    "Considering significance level as 0.05"
   ]
  },
  {
   "cell_type": "code",
   "execution_count": null,
   "id": "1082c73d",
   "metadata": {},
   "outputs": [],
   "source": [
    "# No_of_adults is a numerical column and Booking_status is categorical column.\n",
    "# Numerical vs Categorical - f_oneway test\n",
    "\n",
    "stats.f_oneway(df_hotel['no_of_adults'],df_hotel['booking_status'])"
   ]
  },
  {
   "cell_type": "markdown",
   "id": "3d2fcd58",
   "metadata": {},
   "source": [
    "since pvalue is less than significance level, reject H0. There is significant relationship between no of adults and booking status"
   ]
  },
  {
   "cell_type": "code",
   "execution_count": null,
   "id": "04101e06",
   "metadata": {},
   "outputs": [],
   "source": [
    "# No_of_children is a numerical column and Booking_status is categorical column.\n",
    "# Numerical vs Categorical - f_oneway test\n",
    "\n",
    "stats.f_oneway(df_hotel['no_of_children'],df_hotel['booking_status'])"
   ]
  },
  {
   "cell_type": "markdown",
   "id": "08e1fe0f",
   "metadata": {},
   "source": [
    "since pvalue is less than significance level, reject H0. There is significant relationship between no_of_children and booking status"
   ]
  },
  {
   "cell_type": "code",
   "execution_count": null,
   "id": "0a8d27ff",
   "metadata": {},
   "outputs": [],
   "source": [
    "# No_of_weekend_nights is a numerical column and Booking_status is categorical column.\n",
    "# Numerical vs Categorical - f_oneway test\n",
    "\n",
    "stats.f_oneway(df_hotel['no_of_weekend_nights'],df_hotel['booking_status'])"
   ]
  },
  {
   "cell_type": "markdown",
   "id": "001c08ff",
   "metadata": {},
   "source": [
    "since pvalue is less than significance level, reject H0. There is significant relationship between no_of_weekend_nights and booking status"
   ]
  },
  {
   "cell_type": "code",
   "execution_count": null,
   "id": "55acb6f4",
   "metadata": {},
   "outputs": [],
   "source": [
    "# No_of_week_nights is a numerical column and Booking_status is categorical column.\n",
    "# Numerical vs Categorical - f_oneway test\n",
    "\n",
    "stats.f_oneway(df_hotel['no_of_week_nights'],df_hotel['booking_status'])"
   ]
  },
  {
   "cell_type": "markdown",
   "id": "7d6f5d19",
   "metadata": {},
   "source": [
    "since pvalue is less than significance level, reject H0. There is significant relationship between no_of_week_nights and booking status"
   ]
  },
  {
   "cell_type": "code",
   "execution_count": null,
   "id": "c2ba695d",
   "metadata": {},
   "outputs": [],
   "source": [
    "# Type_of_meal_plan is a categorical column and Booking_status is categorical column.\n",
    "# Categorical vs Categorical - chi2_contingency test\n",
    "\n",
    "ge = pd.crosstab(df_hotel['type_of_meal_plan'], df_hotel['booking_status'])\n",
    "\n",
    "stats.chi2_contingency(ge)"
   ]
  },
  {
   "cell_type": "markdown",
   "id": "0fe2247a",
   "metadata": {},
   "source": [
    "since pvalue is less than significance level, reject H0. There is significant relationship between type_of_meal_plan and booking status"
   ]
  },
  {
   "cell_type": "code",
   "execution_count": null,
   "id": "0b9d52a1",
   "metadata": {},
   "outputs": [],
   "source": [
    "# Required_car_parking_space is a categorical column and Booking_status is categorical column.\n",
    "# Categorical vs Categorical - chi2_contingency test\n",
    "\n",
    "ge = pd.crosstab(df_hotel['required_car_parking_space'], df_hotel['booking_status'])\n",
    "\n",
    "stats.chi2_contingency(ge)"
   ]
  },
  {
   "cell_type": "markdown",
   "id": "d55feda7",
   "metadata": {},
   "source": [
    "since pvalue is less than significance level, reject H0. There is significant relationship between required_car_parking_space and booking status"
   ]
  },
  {
   "cell_type": "code",
   "execution_count": null,
   "id": "7df1321b",
   "metadata": {},
   "outputs": [],
   "source": [
    "# Room_type_reserved is a categorical column and Booking_status is categorical column.\n",
    "# Categorical vs Categorical - chi2_contingency test\n",
    "\n",
    "ge = pd.crosstab(df_hotel['room_type_reserved'], df_hotel['booking_status'])\n",
    "\n",
    "stats.chi2_contingency(ge)"
   ]
  },
  {
   "cell_type": "markdown",
   "id": "f85a879d",
   "metadata": {},
   "source": [
    "since pvalue is less than significance level, reject H0. There is significant relationship between room_type_reserved and booking status"
   ]
  },
  {
   "cell_type": "code",
   "execution_count": null,
   "id": "bbb350be",
   "metadata": {},
   "outputs": [],
   "source": [
    "# Lead_time is a numerical column and Booking_status is categorical column.\n",
    "# Numerical vs Categorical - f_oneway test\n",
    "\n",
    "stats.f_oneway(df_hotel['lead_time'],df_hotel['booking_status'])"
   ]
  },
  {
   "cell_type": "markdown",
   "id": "1c00413c",
   "metadata": {},
   "source": [
    "since pvalue is less than significance level, reject H0. There is significant relationship between lead_time and booking status"
   ]
  },
  {
   "cell_type": "code",
   "execution_count": null,
   "id": "3cbddf4a",
   "metadata": {},
   "outputs": [],
   "source": [
    "# Market_segment_type is a categorical column and Booking_status is categorical column.\n",
    "# Categorical vs Categorical - chi2_contingency test\n",
    "\n",
    "ge = pd.crosstab(df_hotel['market_segment_type'], df_hotel['booking_status'])\n",
    "\n",
    "stats.chi2_contingency(ge)"
   ]
  },
  {
   "cell_type": "markdown",
   "id": "131329c9",
   "metadata": {},
   "source": [
    "since pvalue is less than significance level, reject H0. There is significant relationship between market_segment_type and booking status"
   ]
  },
  {
   "cell_type": "code",
   "execution_count": null,
   "id": "8b4e246d",
   "metadata": {},
   "outputs": [],
   "source": [
    "# Repeated_guest is a categorical column and Booking_status is categorical column.\n",
    "# Categorical vs Categorical - chi2_contingency test\n",
    "\n",
    "ge = pd.crosstab(df_hotel['repeated_guest'], df_hotel['booking_status'])\n",
    "\n",
    "stats.chi2_contingency(ge)"
   ]
  },
  {
   "cell_type": "markdown",
   "id": "265bec22",
   "metadata": {},
   "source": [
    "since pvalue is less than significance level, reject H0. There is significant relationship between repeated_guest and booking status"
   ]
  },
  {
   "cell_type": "code",
   "execution_count": null,
   "id": "945d91a5",
   "metadata": {},
   "outputs": [],
   "source": [
    "# No_of_previous_cancellations is a numerical column and Booking_status is categorical column.\n",
    "# Numerical vs Categorical - f_oneway test\n",
    "\n",
    "stats.f_oneway(df_hotel['no_of_previous_cancellations'],df_hotel['booking_status'])"
   ]
  },
  {
   "cell_type": "markdown",
   "id": "1ad05f99",
   "metadata": {},
   "source": [
    "since pvalue is less than significance level, reject H0. There is significant relationship between no_of_previous_cancellations and booking status"
   ]
  },
  {
   "cell_type": "code",
   "execution_count": null,
   "id": "72d46f8d",
   "metadata": {},
   "outputs": [],
   "source": [
    "# No_of_previous_bookings_not_canceled is a numerical column and Booking_status is categorical column.\n",
    "# Numerical vs Categorical - f_oneway test\n",
    "\n",
    "stats.f_oneway(df_hotel['no_of_previous_bookings_not_canceled'],df_hotel['booking_status'])"
   ]
  },
  {
   "cell_type": "markdown",
   "id": "8ba3c210",
   "metadata": {},
   "source": [
    "since pvalue is less than significance level, reject H0. There is significant relationship between no_of_previous_bookings_not_canceled and booking status"
   ]
  },
  {
   "cell_type": "code",
   "execution_count": null,
   "id": "32213d33",
   "metadata": {},
   "outputs": [],
   "source": [
    "# Avg_price_per_room is a numerical column and Booking_status is categorical column.\n",
    "# Numerical vs Categorical - f_oneway test\n",
    "\n",
    "stats.f_oneway(df_hotel['avg_price_per_room'],df_hotel['booking_status'])"
   ]
  },
  {
   "cell_type": "markdown",
   "id": "b373f6d3",
   "metadata": {},
   "source": [
    "since pvalue is less than significance level, reject H0. There is significant relationship between avg_price_per_room and booking status"
   ]
  },
  {
   "cell_type": "code",
   "execution_count": null,
   "id": "40f913cf",
   "metadata": {},
   "outputs": [],
   "source": [
    "# No_of_special_requets is a numerical column and Booking_status is categorical column.\n",
    "# Numerical vs Categorical - f_oneway test\n",
    "\n",
    "stats.f_oneway(df_hotel['no_of_special_requests'],df_hotel['booking_status'])"
   ]
  },
  {
   "cell_type": "markdown",
   "id": "8d4c03f0",
   "metadata": {},
   "source": [
    "since pvalue is less than significance level, reject H0. There is significant relationship between no_of_special_requests and booking status"
   ]
  },
  {
   "cell_type": "markdown",
   "id": "a0452f48",
   "metadata": {},
   "source": [
    "###### Insights from statistical tests\n",
    "From above performed statistical tests we can conclude that none of the columns has failed to reject null hypotheses which means none of the columns are insignificant to the target variable booking_status. At this stage we cant drop any variable. On further progress after building few models and checking for their metrics if the performance is considerably low we can drop some columns based on the feature_importance score."
   ]
  },
  {
   "cell_type": "raw",
   "id": "40bd7781",
   "metadata": {},
   "source": [
    "Note : \n",
    "\n",
    "Arrival Date, arrival month , arrival year are the date features which are held for feature engineering. However for base model none of these columns were removed or treated."
   ]
  },
  {
   "cell_type": "markdown",
   "id": "21ae2e35",
   "metadata": {},
   "source": [
    "### Splitting the dataset randomly into train and test dataset using ratio of 70:30 "
   ]
  },
  {
   "cell_type": "code",
   "execution_count": null,
   "id": "9053e34c",
   "metadata": {},
   "outputs": [],
   "source": [
    "df_hotel = df_hotel.drop(columns=\"arrival_year\")"
   ]
  },
  {
   "cell_type": "code",
   "execution_count": null,
   "id": "57e4294e",
   "metadata": {},
   "outputs": [],
   "source": [
    "x = df_hotel.drop(columns= 'booking_status')\n",
    "y = df_hotel[\"booking_status\"]"
   ]
  },
  {
   "cell_type": "code",
   "execution_count": null,
   "id": "91986938",
   "metadata": {},
   "outputs": [],
   "source": [
    "xtrain , xtest , ytrain , ytest = train_test_split(x, y, test_size = 0.30, random_state = 7, stratify=y)"
   ]
  },
  {
   "cell_type": "markdown",
   "id": "12b9ac87",
   "metadata": {},
   "source": [
    "### Checking and treating of outliers¶"
   ]
  },
  {
   "cell_type": "code",
   "execution_count": null,
   "id": "4b8a8bd5",
   "metadata": {},
   "outputs": [],
   "source": [
    "plt.rcParams[\"figure.figsize\"] = [8,5]"
   ]
  },
  {
   "cell_type": "code",
   "execution_count": null,
   "id": "389b93e1",
   "metadata": {},
   "outputs": [],
   "source": [
    "num_cols = ['no_of_adults','no_of_children','no_of_weekend_nights','no_of_week_nights','lead_time',\n",
    "            'no_of_previous_cancellations','no_of_previous_bookings_not_canceled','avg_price_per_room']\n",
    "num_cols"
   ]
  },
  {
   "cell_type": "markdown",
   "id": "1b5ac676",
   "metadata": {},
   "source": [
    "For Train Data "
   ]
  },
  {
   "cell_type": "code",
   "execution_count": null,
   "id": "24a68734",
   "metadata": {},
   "outputs": [],
   "source": [
    "f,ax = plt.subplots(2,4)\n",
    "for i, v in zip(num_cols, ax.flatten()):\n",
    "    sns.boxplot(y = xtrain[i], ax = v)\n",
    "    \n",
    "plt.tight_layout()\n",
    "plt.show()"
   ]
  },
  {
   "cell_type": "markdown",
   "id": "9d307a19",
   "metadata": {},
   "source": [
    "For Test Data "
   ]
  },
  {
   "cell_type": "code",
   "execution_count": null,
   "id": "3eece607",
   "metadata": {},
   "outputs": [],
   "source": [
    "f,ax = plt.subplots(2,4)\n",
    "for i, v in zip(num_cols, ax.flatten()):\n",
    "    sns.boxplot(y = xtest[i], ax = v)\n",
    "    \n",
    "plt.tight_layout()\n",
    "plt.show()"
   ]
  },
  {
   "cell_type": "markdown",
   "id": "4f77e03c",
   "metadata": {},
   "source": [
    "From the above it is clearly evident that there are outliers in both train annd test data. By doin IQR we tend to lose data, therefore we proceed to do Power Transformer."
   ]
  },
  {
   "cell_type": "code",
   "execution_count": null,
   "id": "855879c8",
   "metadata": {},
   "outputs": [],
   "source": [
    "out_cols =['no_of_adults','no_of_children','no_of_weekend_nights','no_of_week_nights','lead_time',\n",
    "            'no_of_previous_cancellations','no_of_previous_bookings_not_canceled','avg_price_per_room']"
   ]
  },
  {
   "cell_type": "code",
   "execution_count": null,
   "id": "49e7c417",
   "metadata": {},
   "outputs": [],
   "source": [
    "import pickle"
   ]
  },
  {
   "cell_type": "code",
   "execution_count": null,
   "id": "609a2f48",
   "metadata": {},
   "outputs": [],
   "source": [
    "pt = PowerTransformer()\n",
    "\n",
    "for i in out_cols:\n",
    "    variable = pt.fit(xtrain[[i]])\n",
    "    xtrain[i] = pt.transform(xtrain[[i]])\n",
    "    \n",
    "#     with open(f'{i}.pkl','wb') as file:\n",
    "#         pickle.dump(variable,file)\n",
    "    \n",
    "    xtest[i] = pt.transform(xtest[[i]])"
   ]
  },
  {
   "cell_type": "markdown",
   "id": "12e0ea77",
   "metadata": {},
   "source": [
    "Since the Power Trasformation has inbuilt scaling feature , we are not scaling again "
   ]
  },
  {
   "cell_type": "markdown",
   "id": "168fa1ed",
   "metadata": {},
   "source": [
    "### Encoding of categorical variables"
   ]
  },
  {
   "cell_type": "markdown",
   "id": "5c0e75bd",
   "metadata": {},
   "source": [
    "#### Type_of_meal_plan"
   ]
  },
  {
   "cell_type": "code",
   "execution_count": null,
   "id": "a6c5fea1",
   "metadata": {},
   "outputs": [],
   "source": [
    "# with open(\"oe_market.pkl\", \"wb\") as file:\n",
    "#     pickle.dump(oe_market, file)"
   ]
  },
  {
   "cell_type": "code",
   "execution_count": null,
   "id": "298513b2",
   "metadata": {},
   "outputs": [],
   "source": [
    "xtrain['type_of_meal_plan'].unique()"
   ]
  },
  {
   "cell_type": "markdown",
   "id": "86ff221c",
   "metadata": {},
   "source": [
    "Type of meal plan variable is an ordinal categorical variable. It has a hierarchy between the subclasses. Meal plan type affects the price of room. Each plan has different prices."
   ]
  },
  {
   "cell_type": "code",
   "execution_count": null,
   "id": "52ba93e8",
   "metadata": {},
   "outputs": [],
   "source": [
    "xtrain.groupby('type_of_meal_plan')['avg_price_per_room'].mean().sort_values()"
   ]
  },
  {
   "cell_type": "code",
   "execution_count": null,
   "id": "0a171613",
   "metadata": {},
   "outputs": [],
   "source": [
    "\n",
    "oe = OrdinalEncoder(categories = [['Meal Plan 3','Not Selected','Meal Plan 1', 'Meal Plan 2']])\n",
    "\n",
    "oe_mealplan = oe.fit(xtrain[[\"type_of_meal_plan\"]])\n",
    "\n",
    "xtrain['type_of_meal_plan'] = oe_mealplan.transform(xtrain[['type_of_meal_plan']])\n",
    "xtest['type_of_meal_plan'] = oe_mealplan.transform(xtest[['type_of_meal_plan']])\n",
    "\n",
    "xtrain['type_of_meal_plan'].unique()\n"
   ]
  },
  {
   "cell_type": "markdown",
   "id": "810bb9a3",
   "metadata": {},
   "source": [
    "#### Room_type_reserved"
   ]
  },
  {
   "cell_type": "code",
   "execution_count": null,
   "id": "8fb416e8",
   "metadata": {},
   "outputs": [],
   "source": [
    "df_hotel['room_type_reserved'].unique()"
   ]
  },
  {
   "cell_type": "markdown",
   "id": "e2fd4be9",
   "metadata": {},
   "source": [
    "Room type variable is an ordinal categorical variable. It has a hierarchy between the subclasses. Different room price will be having different prices"
   ]
  },
  {
   "cell_type": "code",
   "execution_count": null,
   "id": "4df47831",
   "metadata": {},
   "outputs": [],
   "source": [
    "xtrain.groupby('room_type_reserved')['avg_price_per_room'].mean().sort_values(ascending=True)"
   ]
  },
  {
   "cell_type": "code",
   "execution_count": null,
   "id": "31ef03ca",
   "metadata": {},
   "outputs": [],
   "source": [
    "oe = OrdinalEncoder(categories = [['Room_Type 3','Room_Type 2','Room_Type 1', 'Room_Type 5',\n",
    "                                  'Room_Type 4','Room_Type 7','Room_Type 6']])\n",
    "\n",
    "oe_roomtype = oe.fit(xtrain[[\"room_type_reserved\"]])\n",
    "\n",
    "xtrain['room_type_reserved'] = oe_roomtype.transform(xtrain[['room_type_reserved']])\n",
    "xtest['room_type_reserved'] = oe_roomtype.transform(xtest[['room_type_reserved']])\n",
    "\n",
    "xtrain['room_type_reserved'].unique()"
   ]
  },
  {
   "cell_type": "markdown",
   "id": "ec874050",
   "metadata": {},
   "source": [
    "#### Market_segment_type"
   ]
  },
  {
   "cell_type": "code",
   "execution_count": null,
   "id": "10ce54fc",
   "metadata": {},
   "outputs": [],
   "source": [
    "xtrain['market_segment_type'].unique()"
   ]
  },
  {
   "cell_type": "markdown",
   "id": "0ddfa502",
   "metadata": {},
   "source": [
    "Market segment type variable is an ordinal categorical variable. It has a hierarchy between the subclasses. For example when a corporate company does bulk booking there maybe slight discount in price of the room and for the customer who books through online has to pay more due to internet service charges , platform charges etc. Same can be applied also for other subclasses also"
   ]
  },
  {
   "cell_type": "code",
   "execution_count": null,
   "id": "4e831f8a",
   "metadata": {},
   "outputs": [],
   "source": [
    "xtrain.groupby('market_segment_type')['avg_price_per_room'].mean().sort_values(ascending=False)"
   ]
  },
  {
   "cell_type": "markdown",
   "id": "c7ab062e",
   "metadata": {},
   "source": [
    "From above groupby we can see that the prices for different market type the prices are different. There is an hierarchy followedFrom above groupby we can see that the prices for different market type the prices are different. There is an hierarchy followed"
   ]
  },
  {
   "cell_type": "code",
   "execution_count": null,
   "id": "b5234b37",
   "metadata": {},
   "outputs": [],
   "source": [
    "oe = OrdinalEncoder(categories = [['Complementary','Corporate','Offline','Aviation','Online']])\n",
    "\n",
    "oe_market = oe.fit(xtrain[[\"market_segment_type\"]])\n",
    "\n",
    "xtrain['market_segment_type'] = oe_market.transform(xtrain[['market_segment_type']])\n",
    "xtest['market_segment_type'] = oe_market.transform(xtest[['market_segment_type']])\n",
    "\n",
    "xtrain['market_segment_type'].unique()"
   ]
  },
  {
   "cell_type": "markdown",
   "id": "18f8f27b",
   "metadata": {},
   "source": [
    "#### Booking_status"
   ]
  },
  {
   "cell_type": "code",
   "execution_count": null,
   "id": "187e5d23",
   "metadata": {},
   "outputs": [],
   "source": [
    "ytrain.unique()"
   ]
  },
  {
   "cell_type": "markdown",
   "id": "3674bbd3",
   "metadata": {},
   "source": [
    "For booking status variable we can replace not_canceled with 0 and cancelled as 1"
   ]
  },
  {
   "cell_type": "code",
   "execution_count": null,
   "id": "184582ea",
   "metadata": {},
   "outputs": [],
   "source": [
    "ytrain.replace({'Not_Canceled':0,'Canceled':1}, inplace = True)\n",
    "ytest.replace({'Not_Canceled':0,'Canceled':1}, inplace = True)\n",
    "\n",
    "ytrain.unique()"
   ]
  },
  {
   "cell_type": "markdown",
   "id": "7a51c4d2",
   "metadata": {},
   "source": [
    "### Checking for imbalance in target variable"
   ]
  },
  {
   "cell_type": "code",
   "execution_count": null,
   "id": "db5692c7",
   "metadata": {},
   "outputs": [],
   "source": [
    "plt.pie(ytrain.value_counts(), labels = ytrain.value_counts().index,\n",
    "        autopct = '%.2f%%', shadow = True, explode = [0.05,0.025],colors = colors)\n",
    "plt.title('Investigating the Frequency of Booking Status')\n",
    "plt.show()"
   ]
  },
  {
   "cell_type": "code",
   "execution_count": null,
   "id": "97721697",
   "metadata": {},
   "outputs": [],
   "source": [
    "ytrain.value_counts()"
   ]
  },
  {
   "cell_type": "markdown",
   "id": "dfa573da",
   "metadata": {},
   "source": [
    "From above plot it is clearly evident that there is class imbalance in the target variable. In class 0 there is 24390 instances and 11885 instances in class 1. We can do over sampling technique to overcome this imblalance"
   ]
  },
  {
   "cell_type": "markdown",
   "id": "ae634001",
   "metadata": {},
   "source": [
    "### Oversampling technique using SMOTE"
   ]
  },
  {
   "cell_type": "markdown",
   "id": "1f6b00c8",
   "metadata": {},
   "source": [
    "For train data "
   ]
  },
  {
   "cell_type": "code",
   "execution_count": null,
   "id": "22c33393",
   "metadata": {},
   "outputs": [],
   "source": [
    "smtrain = SMOTE()\n",
    "\n",
    "xtrain,ytrain = smtrain.fit_resample(xtrain,ytrain)"
   ]
  },
  {
   "cell_type": "code",
   "execution_count": null,
   "id": "5dbb0e39",
   "metadata": {},
   "outputs": [],
   "source": [
    "smtest = SMOTE()\n",
    "\n",
    "xtest, ytest = smtest.fit_resample(xtest,ytest)"
   ]
  },
  {
   "cell_type": "code",
   "execution_count": null,
   "id": "cc7368ce",
   "metadata": {},
   "outputs": [],
   "source": [
    "# Checking of instances after performing over sampling\n",
    "\n",
    "ytrain.value_counts(normalize=True)"
   ]
  },
  {
   "cell_type": "markdown",
   "id": "a5659d50",
   "metadata": {},
   "source": [
    "From above value counts we can see that class imbalance is rectified"
   ]
  },
  {
   "cell_type": "markdown",
   "id": "12006875",
   "metadata": {},
   "source": [
    "### Building a base model"
   ]
  },
  {
   "cell_type": "markdown",
   "id": "ef33f457",
   "metadata": {},
   "source": [
    "Building a base model using Logistic Regression as it is having the highest explanatory power compared to other models"
   ]
  },
  {
   "cell_type": "code",
   "execution_count": null,
   "id": "690501b9",
   "metadata": {},
   "outputs": [],
   "source": [
    "model_lr = sma.Logit(ytrain,sma.add_constant(xtrain)).fit()"
   ]
  },
  {
   "cell_type": "markdown",
   "id": "2107cd4b",
   "metadata": {},
   "source": [
    "##### checking for summary"
   ]
  },
  {
   "cell_type": "code",
   "execution_count": null,
   "id": "61ef2b4c",
   "metadata": {},
   "outputs": [],
   "source": [
    "model_lr.summary()"
   ]
  },
  {
   "cell_type": "code",
   "execution_count": null,
   "id": "1d3125e4",
   "metadata": {},
   "outputs": [],
   "source": []
  },
  {
   "cell_type": "markdown",
   "id": "7471519e",
   "metadata": {},
   "source": [
    "#### Calculating various metrics to evaluate the model performance"
   ]
  },
  {
   "cell_type": "code",
   "execution_count": null,
   "id": "bc71b1ba",
   "metadata": {},
   "outputs": [],
   "source": [
    "pred_prob_train = model_lr.predict(sma.add_constant(xtrain))\n",
    "pred_prob_test = model_lr.predict(sma.add_constant(xtest))"
   ]
  },
  {
   "cell_type": "code",
   "execution_count": null,
   "id": "f97848d3",
   "metadata": {},
   "outputs": [],
   "source": [
    "# Calculating youden's index to convert probability prediction to class prediction\n",
    "\n",
    "# For train data\n",
    "\n",
    "fpr , tpr , threshold = roc_curve(ytrain,pred_prob_train)\n",
    "\n",
    "youden_index_train = []\n",
    "\n",
    "for i,v in zip(fpr , tpr):\n",
    "    res = v - i\n",
    "    youden_index_train.append(res)\n",
    "\n",
    "yi_train = max(np.round(youden_index_train,2))\n",
    "\n",
    "\n",
    "# For test data\n",
    "\n",
    "fpr , tpr , threshold = roc_curve(ytest,pred_prob_test)\n",
    "\n",
    "youden_index_test = []\n",
    "\n",
    "for i,v in zip(fpr , tpr):\n",
    "    res = v - i\n",
    "    youden_index_test.append(res)\n",
    "\n",
    "yi_test = max(np.round(youden_index_test,2))\n",
    "\n",
    "print(f'Youdens index for train data is {yi_train}')\n",
    "print(f'Youdens index for test data is {yi_test}')"
   ]
  },
  {
   "cell_type": "code",
   "execution_count": null,
   "id": "b9d9345c",
   "metadata": {},
   "outputs": [],
   "source": [
    "# Converting probability prediction to class prediction using 0.59 as threshold value\n",
    "\n",
    "pred_train = [ 1 if i > 0.59 else 0  for i in pred_prob_train]\n",
    "pred_test = [ 1 if i > 0.59 else 0  for i in pred_prob_test]\n"
   ]
  },
  {
   "cell_type": "code",
   "execution_count": null,
   "id": "d5612710",
   "metadata": {},
   "outputs": [],
   "source": [
    "# plotting confusion matrix for train data\n",
    "\n",
    "cm = confusion_matrix(ytrain,pred_train)\n",
    "conf_matrix = pd.DataFrame(data = cm , columns = ['Predicted : 0','Predicted : 1'], index = ['Actual : 0','Actual : 1'])\n",
    "c = ['#97C1A9']\n",
    "\n",
    "sns.heatmap(data = conf_matrix, annot = True , cbar = False , fmt = 'd' , cmap = c , linewidth = 1.5 , \n",
    "           annot_kws = {'size' : 25})"
   ]
  },
  {
   "cell_type": "code",
   "execution_count": null,
   "id": "bab676cd",
   "metadata": {},
   "outputs": [],
   "source": [
    "# plotting confusion matrix for test data\n",
    "\n",
    "cm = confusion_matrix(ytest,pred_test)\n",
    "conf_matrix = pd.DataFrame(data = cm , columns = ['Predicted : 0','Predicted : 1'], index = ['Actual : 0','Actual : 1'])\n",
    "c = ['#97C1A9']\n",
    "\n",
    "sns.heatmap(data = conf_matrix, annot = True , cbar = False , fmt = 'd' , cmap = c , linewidth = 1.5 , \n",
    "           annot_kws = {'size' : 25})"
   ]
  },
  {
   "cell_type": "code",
   "execution_count": null,
   "id": "0225953d",
   "metadata": {},
   "outputs": [],
   "source": [
    "# Classification report\n",
    "\n",
    "print(f'Train report : \\n{classification_report(ytrain,pred_train)}\\n')\n",
    "print(f'Testreport : \\n{classification_report(ytest,pred_test)}')"
   ]
  },
  {
   "cell_type": "markdown",
   "id": "38a7895c",
   "metadata": {},
   "source": [
    "From above report we can conclude that our base model has performed good in both train and unseen data with accuracy of almost 80%. On further progress we try to improve our performance by building other models, tuning their hyperparameters and selecting columns based on feature importance score"
   ]
  },
  {
   "cell_type": "code",
   "execution_count": null,
   "id": "00484a2e",
   "metadata": {},
   "outputs": [],
   "source": [
    "odds = pd.DataFrame(np.round(np.exp(model_lr.params),2))\n",
    "odds.sort_values(by = 0 , ascending=False)"
   ]
  },
  {
   "cell_type": "code",
   "execution_count": null,
   "id": "3151349d",
   "metadata": {},
   "outputs": [],
   "source": [
    "odds.sort_values(by = 0 , ascending=False)[0:8]\n",
    "\n",
    "# the below extracted features has the highest influence on the target variable, according to the oddds ratio "
   ]
  },
  {
   "cell_type": "code",
   "execution_count": null,
   "id": "a1c57c61",
   "metadata": {},
   "outputs": [],
   "source": [
    "# Classification using logistic regression: \n",
    "\n",
    "from sklearn.linear_model import LogisticRegression\n",
    "\n",
    "model_lr1 = LogisticRegression().fit(xtrain , ytrain)\n",
    "\n",
    "model_performance_remarks(model_lr1, 'Base Model')"
   ]
  },
  {
   "cell_type": "code",
   "execution_count": null,
   "id": "9b6640af",
   "metadata": {},
   "outputs": [],
   "source": [
    "# Decision Tree Model \n",
    "\n",
    "dt = DecisionTreeClassifier()\n",
    "\n",
    "model_dt = dt.fit(xtrain,ytrain)\n",
    "\n",
    "model_performance_remarks(model_dt, 'Decision Tree')"
   ]
  },
  {
   "cell_type": "code",
   "execution_count": null,
   "id": "d9b8e226",
   "metadata": {},
   "outputs": [],
   "source": [
    "# Random Forest Model \n",
    "\n",
    "rf = RandomForestClassifier()\n",
    "\n",
    "model_rf = rf.fit(xtrain,ytrain)\n",
    "\n",
    "model_performance_remarks(model_rf, \"Random Forest\")"
   ]
  },
  {
   "cell_type": "code",
   "execution_count": null,
   "id": "ed83cc58",
   "metadata": {},
   "outputs": [],
   "source": [
    "with open (\"xg.pkl\", \"wb\") as file:\n",
    "    pickle.dump(model_xg, file)"
   ]
  },
  {
   "cell_type": "code",
   "execution_count": null,
   "id": "31c52327",
   "metadata": {},
   "outputs": [],
   "source": [
    "# XGBoost Model:\n",
    "\n",
    "xg = XGBClassifier()\n",
    "\n",
    "model_xg = xg.fit(xtrain, ytrain)\n",
    "\n",
    "model_performance_remarks(model_xg, \"XGBoost\")"
   ]
  },
  {
   "cell_type": "code",
   "execution_count": null,
   "id": "1b0916a5",
   "metadata": {},
   "outputs": [],
   "source": [
    "# Ada Boost Model \n",
    "\n",
    "ab = AdaBoostClassifier()\n",
    "\n",
    "model_ab = ab.fit(xtrain,ytrain)\n",
    "\n",
    "model_performance_remarks(model_ab, \"AdaBoost\")"
   ]
  },
  {
   "cell_type": "code",
   "execution_count": null,
   "id": "dc91e5ab",
   "metadata": {},
   "outputs": [],
   "source": [
    "# Grid Search CV -- RF params \n",
    "\n",
    "params = ({\"n_estimators\" :range(100,200,25),\n",
    "    \"criterion\" :['gini','entropy'],\n",
    "    \"max_depth\": range(1,6,1),\n",
    "    \"min_samples_split\" : range(1,10,2),\n",
    "    \"min_samples_leaf\" : range(1,5,1),\n",
    "    \"max_features\" : ['sqrt','log2']})\n",
    "          \n",
    "cv = GridSearchCV(estimator=rf,param_grid=params, cv = 3, n_jobs=-1, \n",
    "                 verbose=5, return_train_score=\"f1\")\n",
    "          \n",
    "cv.fit(xtrain,ytrain)\n",
    "\n",
    "cv.best_score_"
   ]
  },
  {
   "cell_type": "code",
   "execution_count": null,
   "id": "2cf57115",
   "metadata": {},
   "outputs": [],
   "source": [
    "model_grid = cv.best_estimator_.fit(xtrain,ytrain)\n",
    "\n",
    "model_performance(model_grid, \"GridSearchCV\")"
   ]
  },
  {
   "cell_type": "code",
   "execution_count": null,
   "id": "0a4d5dee",
   "metadata": {},
   "outputs": [],
   "source": [
    "# pip install catboost"
   ]
  },
  {
   "cell_type": "code",
   "execution_count": null,
   "id": "0b248f04",
   "metadata": {},
   "outputs": [],
   "source": [
    "from catboost import CatBoostClassifier"
   ]
  },
  {
   "cell_type": "code",
   "execution_count": null,
   "id": "b0f067ed",
   "metadata": {},
   "outputs": [],
   "source": [
    "cb = CatBoostClassifier()\n",
    "\n",
    "model_cb = cb.fit(xtrain, ytrain)"
   ]
  },
  {
   "cell_type": "code",
   "execution_count": null,
   "id": "68c79de1",
   "metadata": {},
   "outputs": [],
   "source": [
    "model_performance_remarks(model_cb, \"CatBoost\")"
   ]
  },
  {
   "cell_type": "code",
   "execution_count": null,
   "id": "f816f240",
   "metadata": {},
   "outputs": [],
   "source": [
    "# User Defined Function with remarks\n",
    "\n",
    "from sklearn.metrics import accuracy_score , f1_score , cohen_kappa_score\n",
    "\n",
    "performance_remarks_df = pd.DataFrame(columns = ['Name','Train_accuracy','Test_accuracy','Train_f1score',\n",
    "                                        'Test_f1score','Train_Kappa','Test_Kappa','Remarks'])\n",
    "\n",
    "\n",
    "def model_performance_remarks(model , name , xtrain = xtrain, xtest = xtest):\n",
    "    \n",
    "    global performance_remarks_df\n",
    "    \n",
    "    pred_train = model.predict(xtrain)\n",
    "    pred_test = model.predict(xtest)\n",
    "    \n",
    "    acc_train = round(accuracy_score(ytrain , pred_train),2)*100\n",
    "    acc_test = round(accuracy_score(ytest , pred_test),2)*100\n",
    "    \n",
    "    f1_train = f1_score(ytrain , pred_train)\n",
    "    f1_test = f1_score(ytest , pred_test)\n",
    "    \n",
    "    kappa_train = cohen_kappa_score(ytrain , pred_train)\n",
    "    kappa_test = cohen_kappa_score(ytest , pred_test)\n",
    "    \n",
    "    #remarks\n",
    "    \n",
    "    def remark(train , test):\n",
    "        \n",
    "        if name == 'Base Model':\n",
    "            return 'Base Model'\n",
    "        \n",
    "        else:\n",
    "            \n",
    "            if abs(train - test) > 10 or train > 95:\n",
    "                        return 'Over Fit'\n",
    "            elif train < 81 or test < 78:\n",
    "                        return 'Under Fit'\n",
    "            else:\n",
    "                        return 'Good Fit'\n",
    "        \n",
    "    \n",
    "    performance_remarks_df = performance_remarks_df.append({'Name':name ,\n",
    "                                           'Train_accuracy': round(acc_train,2),\n",
    "                                           'Test_accuracy': round(acc_test,2),\n",
    "                                           'Train_f1score': f1_train,\n",
    "                                           'Test_f1score': f1_test,\n",
    "                                           'Train_Kappa': kappa_train,\n",
    "                                           'Test_Kappa' : kappa_test,\n",
    "                                           'Remarks' : remark(acc_train , acc_test)}, ignore_index = True)\n",
    "    \n",
    "    print('Train report \\n',classification_report(ytrain , pred_train))\n",
    "    print('Test report \\n', classification_report(ytest , pred_test))"
   ]
  },
  {
   "cell_type": "code",
   "execution_count": null,
   "id": "7bf8a403",
   "metadata": {},
   "outputs": [],
   "source": [
    "# model_performance_remarks(model_lr1, \"Linear Regression\")\n",
    "# model_performance_remarks(model_dt, \"Decision Tree\")\n",
    "# model_performance_remarks(model_rf, \"Random forest\")\n",
    "# model_performance_remarks(model_xg, \"XGBoost\")\n",
    "# model_performance_remarks(model_ab, \"AdaBoost\")\n",
    "# # model_performance_remarks(model_grid, \"Grid SearchCV\")"
   ]
  },
  {
   "cell_type": "code",
   "execution_count": null,
   "id": "bec6f7b8",
   "metadata": {},
   "outputs": [],
   "source": [
    "performance_remarks_df"
   ]
  },
  {
   "cell_type": "code",
   "execution_count": null,
   "id": "49bd61f8",
   "metadata": {},
   "outputs": [],
   "source": [
    "def highlight_row(df):\n",
    "    color_green = ['background-color : pink']*len(df)\n",
    "    color_white = ['background-color : white']*len(df)\n",
    "    \n",
    "    if df['Remarks'] == 'Good Fit':\n",
    "        return color_green\n",
    "    \n",
    "    else:\n",
    "        return color_white"
   ]
  },
  {
   "cell_type": "code",
   "execution_count": null,
   "id": "cecb00ee",
   "metadata": {},
   "outputs": [],
   "source": [
    "performance_remarks_df.style.apply(highlight_row, axis =1)"
   ]
  },
  {
   "cell_type": "code",
   "execution_count": null,
   "id": "e24d26c6",
   "metadata": {},
   "outputs": [],
   "source": [
    "from sklearn.compose import ColumnTransformer"
   ]
  },
  {
   "cell_type": "code",
   "execution_count": null,
   "id": "613cdbac",
   "metadata": {},
   "outputs": [],
   "source": [
    "X = df.drop(columns=[\"Booking_ID\",\"arrival_year\",\"booking_status\"])\n",
    "y = df[\"booking_status\"]"
   ]
  },
  {
   "cell_type": "code",
   "execution_count": null,
   "id": "df99aaf0",
   "metadata": {},
   "outputs": [],
   "source": [
    "df_num.columns"
   ]
  },
  {
   "cell_type": "code",
   "execution_count": null,
   "id": "c7dc2901",
   "metadata": {},
   "outputs": [],
   "source": [
    "df_hotel.columns"
   ]
  },
  {
   "cell_type": "code",
   "execution_count": null,
   "id": "35ebd917",
   "metadata": {},
   "outputs": [],
   "source": [
    "df = pd.read_csv(\"Hotel reservations.csv\")"
   ]
  },
  {
   "cell_type": "code",
   "execution_count": null,
   "id": "46ed1079",
   "metadata": {},
   "outputs": [],
   "source": [
    "df[df.columns[:]].agg([\"min\",\"max\"]).T"
   ]
  },
  {
   "cell_type": "code",
   "execution_count": null,
   "id": "d7238cb1",
   "metadata": {},
   "outputs": [],
   "source": [
    "meal_plan_oe = OrdinalEncoder(categories = [['Meal Plan 2','Meal Plan 1','Not Selected', 'Meal Plan 3']])\n",
    "\n",
    "room_type_oe =OrdinalEncoder(categories = [['Room_Type 6','Room_Type 7','Room_Type 4', 'Room_Type 5',\n",
    "                                  'Room_Type 1','Room_Type 2','Room_Type 3']])\n",
    "\n",
    "segment_type_oe = OrdinalEncoder(categories = [['Online','Aviation','Offline','Corporate','Complementary']])\n",
    "\n",
    "booking_status_oe = OrdinalEncoder(categories = [['Not_Canceled','Canceled']])"
   ]
  },
  {
   "cell_type": "code",
   "execution_count": null,
   "id": "b6e09dba",
   "metadata": {},
   "outputs": [],
   "source": [
    "from sklearn.pipeline import Pipeline\n",
    "pt = PowerTransformer()\n",
    "\n",
    "rf = RandomForestClassifier()\n",
    "\n",
    "preprocessor = ColumnTransformer(\n",
    "    transformers=[\n",
    "        ('Power Trns', pt, df_num.columns),(\"meal plan\",meal_plan_oe,[\"type_of_meal_plan\"] ),\n",
    "        (\"room type\", room_type_oe,[\"room_type_reserved\"]),\n",
    "        (\"segment type\" , segment_type_oe,[\"market_segment_type\"])\n",
    "        ],remainder='passthrough')\n",
    "\n",
    "pipeline = Pipeline([(\"preprocessor\",preprocessor), (\"classifier\", rf)])\n",
    "\n",
    "\n",
    "x_train,x_test,y_train,y_test = train_test_split(X,y, test_size=0.2,random_state=42)\n",
    "\n",
    "pipeline.fit(x_train,y_train)\n",
    "y_pred = pipeline.predict(x_test)\n"
   ]
  },
  {
   "cell_type": "code",
   "execution_count": null,
   "id": "4ae9306f",
   "metadata": {},
   "outputs": [],
   "source": [
    "# y_pred"
   ]
  },
  {
   "cell_type": "code",
   "execution_count": null,
   "id": "7aad8d86",
   "metadata": {},
   "outputs": [],
   "source": [
    "print(classification_report(y_test,y_pred))"
   ]
  },
  {
   "cell_type": "code",
   "execution_count": null,
   "id": "f399b786",
   "metadata": {},
   "outputs": [],
   "source": [
    "# Freeze the model \n",
    "\n",
    "import pickle #preserve all the learning params that made this model\n",
    "\n",
    "# writebinary\n",
    "model = open(\"xg.pickle\", \"wb\")\n",
    "pickle.dump(model_xg, model)\n",
    "model.close()"
   ]
  },
  {
   "cell_type": "code",
   "execution_count": null,
   "id": "a0989a3e",
   "metadata": {},
   "outputs": [],
   "source": [
    "pip install streamlit-extras"
   ]
  },
  {
   "cell_type": "code",
   "execution_count": null,
   "id": "33ac4f12",
   "metadata": {},
   "outputs": [],
   "source": [
    "xtrain.info()"
   ]
  },
  {
   "cell_type": "code",
   "execution_count": null,
   "id": "a0706962",
   "metadata": {},
   "outputs": [],
   "source": [
    "%%writefile app.py\n",
    "import streamlit as st\n",
    "# from IPython.display import display, HTML\n",
    "import pandas as pd \n",
    "import matplotlib.pyplot as plt \n",
    "import pickle\n",
    "from sklearn.preprocessing import PowerTransformer\n",
    "\n",
    "# st.balloons()\n",
    "# st.snow()\n",
    "\n",
    "\n",
    "# st.markdown(\n",
    "#          f\"\"\"\n",
    "#          <style>\n",
    "#          .stApp {{\n",
    "#              background-image: url(\"https://cdn.pixabay.com/photo/2019/04/24/11/27/flowers-4151900_960_720.jpg\");\n",
    "#              background-attachment: fixed;\n",
    "#              background-size: cover\n",
    "#          }}\n",
    "#          </style>\n",
    "#          \"\"\",\n",
    "#          unsafe_allow_html=True\n",
    "#      )\n",
    "\n",
    "import base64\n",
    "\n",
    "with open(\"hotel_bg.jpg\", \"rb\") as image_file:\n",
    "    encoded_string = base64.b64encode(image_file.read())\n",
    "st.markdown(\n",
    "f\"\"\"\n",
    "<style>\n",
    ".stApp {{\n",
    "    background-image: url(data:image/{\"png\"};base64,{encoded_string.decode()});\n",
    "    background-size: cover\n",
    "}}\n",
    "</style>\n",
    "\"\"\",\n",
    "unsafe_allow_html=True\n",
    ")\n",
    "\n",
    "\n",
    "\n",
    "\n",
    "# from PIL import Image\n",
    "\n",
    "# image = Image.open(\"Hotel - BG.jpg\")\n",
    "\n",
    "# st.image(image, caption='Hotel')\n",
    "\n",
    "\n",
    "st.title(\"Hotel Booking Cancellation Prediction\")\n",
    "st.markdown(\"Will this customer honour the booking? \")\n",
    "\n",
    "# step 1 load the pickled model --> rb read binary\n",
    "\n",
    "model = open(\"rf.pickle\",\"rb\")\n",
    "clf = pickle.load(model)\n",
    "model.close()\n",
    "\n",
    "# step2 get the user input from the front end\n",
    "no_of_adults= st.number_input('No of Adults',0,4,step = 1) \n",
    "no_of_children = st.slider('No of Children',0,10,1) \n",
    "no_of_weekend_nights = st.slider(\"No of weekend nights\",0,7,1)\n",
    "no_of_week_nights = st.slider('No of week nights',0,17,1)\n",
    "type_of_meal_plan = st.selectbox(\"Select a meal plan \", ('Meal Plan 1', 'Meal Plan 2', 'Meal Plan 3', 'Not Selected'))\n",
    "required_car_parking_space = st.selectbox(\"Parking required or not \", (0,1))\n",
    "room_type_reserved = st.selectbox(\"Type of room type reserved \", ('Room_Type 1', 'Room_Type 2', 'Room_Type 3', 'Room_Type 4',\n",
    "                       'Room_Type 5', 'Room_Type 6', 'Room_Type 7'))\n",
    "lead_time = st.number_input(\"Lead Time\" , 0,443,1)\n",
    "arrival_month = st.slider(\"Month of arrival \" , 1,12,1)\n",
    "arrival_date = st.slider(\"Date of arrival\", 1,30,1)\n",
    "market_segment_type = st.selectbox(\"Mode of Booking \", ('Online','Aviation','Offline','Corporate','Complementary'))\n",
    "repeated_guest = st.selectbox(\"Repeat visit(if yes --> 1, no -->0)\" , (0,1))\n",
    "no_of_previous_cancellations = st.slider(\"No of previous cancellations\", 0,13,1)\n",
    "no_of_previous_bookings_not_canceled = st.slider(\"No of successful visits\" , 0,58,1)\n",
    "avg_price_per_room = st.slider(\"Price per room\" , 0, 540, 10)\n",
    "no_of_special_requests = st.slider(\"Special requests if any\" , 0,5,1)\n",
    "\n",
    "\n",
    "# step3 : converting user input to model input \n",
    "\n",
    "data = {'no_of_adults': no_of_adults,\n",
    "        'no_of_children' : no_of_children, \n",
    "        'no_of_weekend_nights' : no_of_weekend_nights, \n",
    "        'no_of_week_nights': no_of_week_nights,\n",
    "        'type_of_meal_plan' : type_of_meal_plan,\n",
    "       'required_car_parking_space': required_car_parking_space,\n",
    "        'room_type_reserved': room_type_reserved,\n",
    "        'lead_time':lead_time,\n",
    "       \"arrival_month\": arrival_month,\n",
    "       \"arrival_date\": arrival_date,\n",
    "       \"market_segment_type\": market_segment_type,\n",
    "       \"repeated_guest\": repeated_guest,\n",
    "       \"no_of_previous_cancellations\" : no_of_previous_cancellations,\n",
    "       \"no_of_previous_bookings_not_canceled\" : no_of_previous_bookings_not_canceled,\n",
    "       \"avg_price_per_room\": avg_price_per_room,\n",
    "       \"no_of_special_requests\" : no_of_special_requests}\n",
    "input_data = pd.DataFrame([data])\n",
    "# st.write(input_data)\n",
    "\n",
    "\n",
    "prediction = clf.predict(input_data)\n",
    "if st.button(\"Prediction\"):\n",
    "    if prediction == \"Not_Canceled\":\n",
    "        st.subheader(\"Booking will be honoured\")\n",
    "    if prediction==\"Canceled\":\n",
    "        st.subheader(\"Booking will be cancelled\")"
   ]
  },
  {
   "cell_type": "code",
   "execution_count": null,
   "id": "ded14cff",
   "metadata": {},
   "outputs": [],
   "source": [
    "df.head(1)"
   ]
  }
 ],
 "metadata": {
  "kernelspec": {
   "display_name": "Python 3 (ipykernel)",
   "language": "python",
   "name": "python3"
  },
  "language_info": {
   "codemirror_mode": {
    "name": "ipython",
    "version": 3
   },
   "file_extension": ".py",
   "mimetype": "text/x-python",
   "name": "python",
   "nbconvert_exporter": "python",
   "pygments_lexer": "ipython3",
   "version": "3.9.13"
  }
 },
 "nbformat": 4,
 "nbformat_minor": 5
}
